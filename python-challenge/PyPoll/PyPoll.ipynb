{
 "cells": [
  {
   "cell_type": "code",
   "execution_count": 11,
   "id": "991bcfb6",
   "metadata": {},
   "outputs": [
    {
     "name": "stdout",
     "output_type": "stream",
     "text": [
      "Charles Casper Stockham: 23.049% (85213)\n",
      "Diana DeGette: 73.812% (272892)\n",
      "Raymon Anthony Doane: 3.139% (11606)\n",
      "-------------------------\n",
      "Winner: Diana DeGette\n",
      "-------------------------\n"
     ]
    }
   ],
   "source": [
    "# Import modules\n",
    "import csv\n",
    "import os\n",
    "import pandas as pd\n",
    "from pathlib import Path\n",
    "\n",
    "# Read in files\n",
    "election_data = Path(\"Resources/election_data.csv\")\n",
    "election_df = pd.read_csv(election_data)\n",
    "\n",
    "# Total number of votes cast\n",
    "total_votes = len(election_df)\n",
    "\n",
    "# Complete list of candidates who received votes\n",
    "candidates = election_df[\"Candidate\"].unique()\n",
    "\n",
    "# Percentage of votes each candidate won\n",
    "for candidate in candidates:\n",
    "    votes = len(election_df[election_df[\"Candidate\"] == candidate])\n",
    "    percentage = (votes / total_votes) * 100\n",
    "    print(f\"{candidate}: {percentage:.3f}% ({votes})\")\n",
    "\n",
    "# Total number of votes each candidate won\n",
    "charles = len(election_df[election_df[\"Candidate\"] == 'Charles Casper Stockham'])\n",
    "diana = len(election_df[election_df[\"Candidate\"] == 'Diana DeGette'])\n",
    "raymon = len(election_df[election_df[\"Candidate\"] == 'Raymon Anthony Doane'])\n",
    "\n",
    "# Winner of election based on popular vote\n",
    "candidates_votes = {'Charles Casper Stockham': charles, 'Diana DeGette': diana, 'Raymon Anthony Doane': raymon}\n",
    "winner = max(candidates_votes, key=candidates_votes.get)\n",
    "\n",
    "# Print results\n",
    "print(\"-------------------------\")\n",
    "print(f\"Winner: {winner}\")\n",
    "print(\"-------------------------\")"
   ]
  },
  {
   "cell_type": "code",
   "execution_count": null,
   "id": "8c32e071",
   "metadata": {},
   "outputs": [],
   "source": []
  }
 ],
 "metadata": {
  "kernelspec": {
   "display_name": "Python 3 (ipykernel)",
   "language": "python",
   "name": "python3"
  },
  "language_info": {
   "codemirror_mode": {
    "name": "ipython",
    "version": 3
   },
   "file_extension": ".py",
   "mimetype": "text/x-python",
   "name": "python",
   "nbconvert_exporter": "python",
   "pygments_lexer": "ipython3",
   "version": "3.10.13"
  }
 },
 "nbformat": 4,
 "nbformat_minor": 5
}
