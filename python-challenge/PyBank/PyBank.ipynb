{
 "cells": [
  {
   "cell_type": "code",
   "execution_count": 4,
   "id": "22c8069c",
   "metadata": {},
   "outputs": [
    {
     "name": "stdout",
     "output_type": "stream",
     "text": [
      "Financial Analysis\n",
      "-----------------------\n",
      "Total Months: 86\n",
      "Total: $22564198\n",
      "Average Change: $-8311.11\n",
      "Greatest Increase in Profits: 79    Aug-16\n",
      "Name: Date, dtype: object ($1862002)\n",
      "Greatest Decrease in Profits: 49    Feb-14\n",
      "Name: Date, dtype: object ($-1825558)\n"
     ]
    }
   ],
   "source": [
    "# Import modules\n",
    "import os\n",
    "import csv\n",
    "import pandas as pd\n",
    "from pathlib import Path\n",
    "\n",
    "# Read in files, store header row\n",
    "budget_file = Path(\"Resources/budget_data.csv\")\n",
    "budget_df = pd.read_csv(budget_file)\n",
    "budget_df.head()\n",
    "\n",
    "# Calculations\n",
    "total_months = len(budget_df[\"Date\"])\n",
    "net_total = budget_df[\"Profit/Losses\"].sum()\n",
    "diff_df = budget_df[\"Profit/Losses\"].diff()\n",
    "average = round(diff_df.mean(),2)\n",
    "greatest_inc = int(diff_df.max())\n",
    "greatest_dec = int(diff_df.min())\n",
    "greatest_date_inc = budget_df.loc[diff_df == greatest_inc,'Date']\n",
    "greatest_date_dec = budget_df.loc[diff_df == greatest_dec,'Date']\n",
    "\n",
    "# Print results\n",
    "print(\"Financial Analysis\")\n",
    "print(\"-----------------------\")\n",
    "print(f\"Total Months: {total_months}\")\n",
    "print(f\"Total: ${net_total}\")\n",
    "print(f\"Average Change: ${average}\")\n",
    "print(f\"Greatest Increase in Profits: {greatest_date_inc} (${greatest_inc})\")\n",
    "print(f\"Greatest Decrease in Profits: {greatest_date_dec} (${greatest_dec})\")"
   ]
  },
  {
   "cell_type": "code",
   "execution_count": null,
   "id": "6a482239",
   "metadata": {},
   "outputs": [],
   "source": []
  }
 ],
 "metadata": {
  "kernelspec": {
   "display_name": "Python 3 (ipykernel)",
   "language": "python",
   "name": "python3"
  },
  "language_info": {
   "codemirror_mode": {
    "name": "ipython",
    "version": 3
   },
   "file_extension": ".py",
   "mimetype": "text/x-python",
   "name": "python",
   "nbconvert_exporter": "python",
   "pygments_lexer": "ipython3",
   "version": "3.10.13"
  }
 },
 "nbformat": 4,
 "nbformat_minor": 5
}
